{
 "cells": [
  {
   "cell_type": "markdown",
   "metadata": {},
   "source": [
    "**Lookalike Model:**  \n",
    "data\\[\"Product name\"\\]==\"ComfortLiving Bluetooth Speaker\"  \n",
    "ComfortLiving_Bluetooth_Speaker =data\\[data\\[\"Product\n",
    "name\"\\]==\"ComfortLiving Bluetooth Speaker\"\\]\n",
    "\n",
    "print(ComfortLiving_Bluetooth_Speaker.head())"
   ],
   "id": "42a14256-91c8-446e-92a7-ab6bf11055d3"
  }
 ],
 "nbformat": 4,
 "nbformat_minor": 5,
 "metadata": {}
}
