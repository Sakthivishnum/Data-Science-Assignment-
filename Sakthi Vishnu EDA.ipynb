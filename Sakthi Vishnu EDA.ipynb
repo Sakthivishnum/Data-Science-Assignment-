{
 "cells": [
  {
   "cell_type": "markdown",
   "metadata": {},
   "source": [
    "Exploratory Data Analysis (EDA) and Business Insights :- import pandas\n",
    "as pd  \n",
    "data=pd.read_csv(\"final output.csv\")  \n",
    "data.head()  \n",
    "print(data.head(6))"
   ],
   "id": "42a14256-91c8-446e-92a7-ab6bf11055d3"
  }
 ],
 "nbformat": 4,
 "nbformat_minor": 5,
 "metadata": {}
}
